{
 "cells": [
  {
   "cell_type": "code",
   "execution_count": 153,
   "metadata": {},
   "outputs": [],
   "source": [
    "#iterate through all binary strings of length n\n",
    "#increase a counter if the string has any adjacent 0s\n",
    "def count(n):\n",
    "    count = 0\n",
    "    for i in range(2**n):\n",
    "        bin_str = bin(i)[2:]\n",
    "        #pad with 0s\n",
    "        bin_str = '0'*(n-len(bin_str)) + bin_str\n",
    "        #print(bin_str)\n",
    "        if '00' in bin_str:\n",
    "            count += 1\n",
    "    return count\n",
    "def thing(n):\n",
    "    if (n == 1):\n",
    "        return 0\n",
    "    if (n == 2):\n",
    "        return 1\n",
    "    return thing(n - 1) + 2**(n-2) + thing(n - 2)\n",
    "\n",
    "#generate all strings of length n with a, b, c\n",
    "def gen(n):\n",
    "    if n == 1:\n",
    "        return ['a', 'b', 'c']\n",
    "    else:\n",
    "        return [x + y for x in gen(1) for y in gen(n-1)]"
   ]
  },
  {
   "cell_type": "code",
   "execution_count": 154,
   "metadata": {},
   "outputs": [
    {
     "data": {
      "text/plain": [
       "3799168"
      ]
     },
     "execution_count": 154,
     "metadata": {},
     "output_type": "execute_result"
    }
   ],
   "source": [
    "#use gen(n) to generate strings of length n\n",
    "#increase counter if string does not has adjacent a's\n",
    "def count(n):\n",
    "    count = 0\n",
    "    for i in gen(n):\n",
    "        if not 'aa' in i:\n",
    "            count += 1\n",
    "    return count\n",
    "\n",
    "count(15)"
   ]
  }
 ],
 "metadata": {
  "kernelspec": {
   "display_name": "Python 3",
   "language": "python",
   "name": "python3"
  },
  "language_info": {
   "codemirror_mode": {
    "name": "ipython",
    "version": 3
   },
   "file_extension": ".py",
   "mimetype": "text/x-python",
   "name": "python",
   "nbconvert_exporter": "python",
   "pygments_lexer": "ipython3",
   "version": "3.11.1"
  },
  "orig_nbformat": 4
 },
 "nbformat": 4,
 "nbformat_minor": 2
}
